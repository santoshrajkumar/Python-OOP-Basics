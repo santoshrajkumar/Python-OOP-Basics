{
 "cells": [
  {
   "cell_type": "code",
   "execution_count": 2,
   "id": "ac873df7-a7d2-4ee5-a371-c5d683df4d3d",
   "metadata": {},
   "outputs": [
    {
     "ename": "TypeError",
     "evalue": "Can't instantiate abstract class Shape with abstract methods area, perimeter",
     "output_type": "error",
     "traceback": [
      "\u001b[0;31m---------------------------------------------------------------------------\u001b[0m",
      "\u001b[0;31mTypeError\u001b[0m                                 Traceback (most recent call last)",
      "\u001b[0;32m<ipython-input-2-bc79d2945309>\u001b[0m in \u001b[0;36m<module>\u001b[0;34m\u001b[0m\n\u001b[1;32m     10\u001b[0m     \u001b[0;32mdef\u001b[0m \u001b[0mperimeter\u001b[0m\u001b[0;34m(\u001b[0m\u001b[0mself\u001b[0m\u001b[0;34m)\u001b[0m\u001b[0;34m:\u001b[0m \u001b[0mself\u001b[0m\u001b[0;34m\u001b[0m\u001b[0;34m\u001b[0m\u001b[0m\n\u001b[1;32m     11\u001b[0m \u001b[0;34m\u001b[0m\u001b[0m\n\u001b[0;32m---> 12\u001b[0;31m \u001b[0mshape\u001b[0m \u001b[0;34m=\u001b[0m \u001b[0mShape\u001b[0m\u001b[0;34m(\u001b[0m\u001b[0;34m)\u001b[0m\u001b[0;34m\u001b[0m\u001b[0;34m\u001b[0m\u001b[0m\n\u001b[0m",
      "\u001b[0;31mTypeError\u001b[0m: Can't instantiate abstract class Shape with abstract methods area, perimeter"
     ]
    }
   ],
   "source": [
    "from abc import ABC, abstractmethod\n",
    "\n",
    "# creating abstract class\n",
    "class Shape(ABC):\n",
    "    #use a decorator\n",
    "    @abstractmethod\n",
    "    def area(self): pass\n",
    "    \n",
    "    @abstractmethod\n",
    "    def perimeter(self): self\n",
    "        \n",
    "shape = Shape()"
   ]
  },
  {
   "cell_type": "code",
   "execution_count": 5,
   "id": "01518834-ce4a-4cca-96f3-ae7b46e35481",
   "metadata": {},
   "outputs": [],
   "source": [
    "from abc import ABC, abstractmethod\n",
    "\n",
    "# creating abstract class\n",
    "class Shape(ABC):\n",
    "    #use a decorator\n",
    "    @abstractmethod\n",
    "    def area(self): pass\n",
    "    \n",
    "  \n",
    "    def perimeter(self): self\n",
    "        \n",
    "class Square(Shape):\n",
    "    def __init__(self,side):\n",
    "        self.__side = side\n",
    "    def area(self):\n",
    "        return self.__side*self.__side\n",
    "    \n",
    "square = Square(5)"
   ]
  },
  {
   "cell_type": "code",
   "execution_count": 6,
   "id": "6a352f2d-3cb0-458c-8445-1c3b36345d9a",
   "metadata": {},
   "outputs": [
    {
     "ename": "TypeError",
     "evalue": "Can't instantiate abstract class Square with abstract methods perimeter",
     "output_type": "error",
     "traceback": [
      "\u001b[0;31m---------------------------------------------------------------------------\u001b[0m",
      "\u001b[0;31mTypeError\u001b[0m                                 Traceback (most recent call last)",
      "\u001b[0;32m<ipython-input-6-2288e462b11b>\u001b[0m in \u001b[0;36m<module>\u001b[0;34m\u001b[0m\n\u001b[1;32m     16\u001b[0m         \u001b[0;32mreturn\u001b[0m \u001b[0mself\u001b[0m\u001b[0;34m.\u001b[0m\u001b[0m__side\u001b[0m\u001b[0;34m*\u001b[0m\u001b[0mself\u001b[0m\u001b[0;34m.\u001b[0m\u001b[0m__side\u001b[0m\u001b[0;34m\u001b[0m\u001b[0;34m\u001b[0m\u001b[0m\n\u001b[1;32m     17\u001b[0m \u001b[0;34m\u001b[0m\u001b[0m\n\u001b[0;32m---> 18\u001b[0;31m \u001b[0msquare\u001b[0m \u001b[0;34m=\u001b[0m \u001b[0mSquare\u001b[0m\u001b[0;34m(\u001b[0m\u001b[0;36m5\u001b[0m\u001b[0;34m)\u001b[0m\u001b[0;34m\u001b[0m\u001b[0;34m\u001b[0m\u001b[0m\n\u001b[0m",
      "\u001b[0;31mTypeError\u001b[0m: Can't instantiate abstract class Square with abstract methods perimeter"
     ]
    }
   ],
   "source": [
    "from abc import ABC, abstractmethod\n",
    "\n",
    "# creating abstract class\n",
    "class Shape(ABC):\n",
    "    #use a decorator\n",
    "    @abstractmethod\n",
    "    def area(self): pass\n",
    "    \n",
    "    @abstractmethod\n",
    "    def perimeter(self): self\n",
    "        \n",
    "class Square(Shape):\n",
    "    def __init__(self,side):\n",
    "        self.__side = side\n",
    "    def area(self):\n",
    "        return self.__side*self.__side\n",
    "    \n",
    "square = Square(5)"
   ]
  },
  {
   "cell_type": "code",
   "execution_count": 9,
   "id": "7000cc6b-321c-46fb-b974-4cdcfb1a3f0f",
   "metadata": {},
   "outputs": [
    {
     "name": "stdout",
     "output_type": "stream",
     "text": [
      "25\n",
      "20\n"
     ]
    }
   ],
   "source": [
    "from abc import ABC, abstractmethod\n",
    "\n",
    "# creating abstract class\n",
    "class Shape(ABC):\n",
    "    #use a decorator\n",
    "    @abstractmethod\n",
    "    def area(self): pass\n",
    "    \n",
    "    @abstractmethod\n",
    "    def perimeter(self): self\n",
    "        \n",
    "class Square(Shape):\n",
    "    def __init__(self,side):\n",
    "        self.__side = side\n",
    "    def area(self):\n",
    "        return self.__side*self.__side\n",
    "    def perimeter(self):\n",
    "        return 4*self.__side\n",
    "    \n",
    "square = Square(5)\n",
    "\n",
    "print(square.area())\n",
    "print(square.perimeter())"
   ]
  }
 ],
 "metadata": {
  "kernelspec": {
   "display_name": "Python 3",
   "language": "python",
   "name": "python3"
  },
  "language_info": {
   "codemirror_mode": {
    "name": "ipython",
    "version": 3
   },
   "file_extension": ".py",
   "mimetype": "text/x-python",
   "name": "python",
   "nbconvert_exporter": "python",
   "pygments_lexer": "ipython3",
   "version": "3.8.10"
  }
 },
 "nbformat": 4,
 "nbformat_minor": 5
}
