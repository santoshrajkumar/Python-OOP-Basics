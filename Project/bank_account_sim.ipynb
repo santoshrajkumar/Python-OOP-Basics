{
 "cells": [
  {
   "cell_type": "code",
   "execution_count": 17,
   "id": "9324bdbe-0fa6-40ff-824f-8b375151d85f",
   "metadata": {},
   "outputs": [
    {
     "name": "stdout",
     "output_type": "stream",
     "text": [
      "Name:  Santosh Rajkumar\n",
      "DoB:  01/14/1994\n",
      "Address:  501 E High St, Oxford,OH-45056\n",
      "Phone:  513-291-8255\n",
      "Balance: $  7890\n",
      "You have successfully deposited $ 1500\n",
      "9390\n",
      "You have successfully withdrawn $ 5500\n",
      "Your current balance is $  3890\n"
     ]
    }
   ],
   "source": [
    "class BankAccount:\n",
    "    def __init__(self, balance, deposit_amount, withdrawal_amount):\n",
    "        self.__balance = balance;\n",
    "        self.__deposit_amount = deposit_amount;\n",
    "        self.__withdrawal_amount = withdrawal_amount;\n",
    "    \n",
    "    def set_balance(self, balance):\n",
    "        self.__balance = balance;\n",
    "    def get_balance(self):\n",
    "        return self.__balance;\n",
    "    def deposit(self, deposit_amount):\n",
    "        self.__balance += deposit_amount;\n",
    "        print('You have successfully deposited $', deposit_amount)\n",
    "    def withdraw(self, withdrawal_amount):\n",
    "        if withdrawal_amount <= self.__balance:\n",
    "            self.__balance -= withdrawal_amount;\n",
    "            print('You have successfully withdrawn $', withdrawal_amount)\n",
    "            print('Your current balance is $ ', self.__balance)\n",
    "        else:\n",
    "            print('Sorry you have insufficient balance of $:', withdrawal_amount- self.__balance)\n",
    "            \n",
    "\n",
    "class Customer:\n",
    "    def __init__(self, name, dob, address, phone, balance, deposit_amount, withdrawal_amount):\n",
    "        self.__name = name\n",
    "        self.__dob = dob\n",
    "        self.__address = address\n",
    "        self.__phone = phone\n",
    "        self.obj_bank_account = BankAccount(balance, deposit_amount, withdrawal_amount)\n",
    "    \n",
    "    def get_details(self):\n",
    "        print('Name: ',  self.__name)\n",
    "        print('DoB: ', self.__dob)\n",
    "        print('Address: ', self.__address)\n",
    "        print('Phone: ', self.__phone)\n",
    "        print('Balance: $ ', self.obj_bank_account.get_balance())\n",
    "        \n",
    "\n",
    "\n",
    "        \n",
    "cust1 = Customer('Santosh Rajkumar', '01/14/1994', '501 E High St, Oxford,OH-45056', '513-291-8255', 7890, 0, 0)\n",
    "\n",
    "cust1.get_details()\n",
    "\n",
    "cust1.obj_bank_account.deposit(1500)\n",
    "\n",
    "print(cust1.obj_bank_account.get_balance())\n",
    "\n",
    "cust1.obj_bank_account.withdraw(5500)"
   ]
  },
  {
   "cell_type": "code",
   "execution_count": null,
   "id": "bfb635b7-e6a0-48da-9421-2a54109d1a74",
   "metadata": {},
   "outputs": [],
   "source": []
  }
 ],
 "metadata": {
  "kernelspec": {
   "display_name": "Python 3",
   "language": "python",
   "name": "python3"
  },
  "language_info": {
   "codemirror_mode": {
    "name": "ipython",
    "version": 3
   },
   "file_extension": ".py",
   "mimetype": "text/x-python",
   "name": "python",
   "nbconvert_exporter": "python",
   "pygments_lexer": "ipython3",
   "version": "3.8.10"
  }
 },
 "nbformat": 4,
 "nbformat_minor": 5
}
