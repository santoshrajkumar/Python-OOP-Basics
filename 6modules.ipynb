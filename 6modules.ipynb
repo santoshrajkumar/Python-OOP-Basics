{
 "cells": [
  {
   "cell_type": "code",
   "execution_count": 2,
   "id": "e9cd2416-3d73-4046-b525-565186e59c43",
   "metadata": {},
   "outputs": [
    {
     "name": "stdout",
     "output_type": "stream",
     "text": [
      "5\n",
      "6\n"
     ]
    }
   ],
   "source": [
    "import module_demo1 as md\n",
    "\n",
    "print(md.add(2,3))\n",
    "print(md.mult(2,3))"
   ]
  },
  {
   "cell_type": "code",
   "execution_count": 4,
   "id": "7c93c7bd-fe2a-4f34-8a78-1366e6d1e362",
   "metadata": {},
   "outputs": [
    {
     "name": "stdout",
     "output_type": "stream",
     "text": [
      "3\n"
     ]
    }
   ],
   "source": [
    "from mod_dir import module_demo2 as md2\n",
    "\n",
    "print(md2.subt(6,3))"
   ]
  },
  {
   "cell_type": "code",
   "execution_count": 7,
   "id": "56e1af27-e786-4bbf-8d55-49ba9108796c",
   "metadata": {},
   "outputs": [
    {
     "name": "stdout",
     "output_type": "stream",
     "text": [
      "13\n"
     ]
    }
   ],
   "source": [
    "import mod_dir.module_demo2 as md3\n",
    "\n",
    "print(md3.subt(78,65))"
   ]
  },
  {
   "cell_type": "code",
   "execution_count": 8,
   "id": "88da3758-4180-4bbe-b9d7-ed6eefc1baab",
   "metadata": {},
   "outputs": [
    {
     "name": "stdout",
     "output_type": "stream",
     "text": [
      "1000\n",
      "500.0\n"
     ]
    }
   ],
   "source": [
    "import module_demo2 as mdd\n",
    "\n",
    "rect = mdd.Rectangle()\n",
    "tri = mdd.Triangle()\n",
    "\n",
    "rect.set_values(50,20)\n",
    "tri.set_values(50,20)\n",
    "print(rect.area())\n",
    "print(tri.area())"
   ]
  },
  {
   "cell_type": "code",
   "execution_count": null,
   "id": "d6cbffa6-f2ca-4790-a04b-f96239e690e2",
   "metadata": {},
   "outputs": [],
   "source": []
  }
 ],
 "metadata": {
  "kernelspec": {
   "display_name": "Python 3",
   "language": "python",
   "name": "python3"
  },
  "language_info": {
   "codemirror_mode": {
    "name": "ipython",
    "version": 3
   },
   "file_extension": ".py",
   "mimetype": "text/x-python",
   "name": "python",
   "nbconvert_exporter": "python",
   "pygments_lexer": "ipython3",
   "version": "3.8.10"
  }
 },
 "nbformat": 4,
 "nbformat_minor": 5
}
