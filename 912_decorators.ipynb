{
 "cells": [
  {
   "cell_type": "markdown",
   "id": "d1a9e048-3c87-4100-9ad1-c8972770c3a8",
   "metadata": {},
   "source": [
    "# Decorators\n",
    "**Decorators wrap a function and modify its behavior in one way or the another without having to directly change the source code of the function being decorated**"
   ]
  },
  {
   "cell_type": "code",
   "execution_count": 1,
   "id": "55b18060-61ba-4f86-a584-c0b78e2cf9a2",
   "metadata": {},
   "outputs": [
    {
     "name": "stdout",
     "output_type": "stream",
     "text": [
      "*******************\n",
      "Hello World\n",
      "###################\n"
     ]
    }
   ],
   "source": [
    "def dec_func1(func):\n",
    "    def wrapper_func():\n",
    "        print('*******************')\n",
    "        func()\n",
    "        print('###################')\n",
    "    return wrapper_func\n",
    "\n",
    "@dec_func1\n",
    "def hello_say():\n",
    "    print('Hello World')\n",
    "\n",
    "hello_say()\n"
   ]
  },
  {
   "cell_type": "code",
   "execution_count": 3,
   "id": "5adff242-4968-4c63-af0f-b93fa1b52957",
   "metadata": {},
   "outputs": [
    {
     "name": "stdout",
     "output_type": "stream",
     "text": [
      "XXXXXXXXXXXXXXXXXXXX\n",
      "YYYYYYYYYYYYYYYYYYYY\n",
      "Hello World\n",
      "YYYYYYYYYYYYYYYYYYYY\n",
      "XXXXXXXXXXXXXXXXXXXX\n"
     ]
    }
   ],
   "source": [
    "def dec_func1(func):\n",
    "    def wrapper_func():\n",
    "        print('X'*20)\n",
    "        func()\n",
    "        print('X'*20)\n",
    "    return wrapper_func\n",
    "\n",
    "def dec_func2(func):\n",
    "    def wrapper_func():\n",
    "        print('Y'*20)\n",
    "        func()\n",
    "        print('Y'*20)\n",
    "    return wrapper_func\n",
    "\n",
    "@dec_func1\n",
    "@dec_func2\n",
    "def hello_say():\n",
    "    print('Hello World')\n",
    "\n",
    "hello_say()\n"
   ]
  },
  {
   "cell_type": "code",
   "execution_count": 7,
   "id": "091a3fda-ab0a-4539-a605-74e45eedf23f",
   "metadata": {},
   "outputs": [
    {
     "name": "stdout",
     "output_type": "stream",
     "text": [
      "Division\n",
      "5.0\n",
      "Division\n",
      "division with zero not allowed\n",
      "None\n"
     ]
    }
   ],
   "source": [
    "def dec_func3(func):\n",
    "    def wrapper_func(a,b):\n",
    "        print('Division')\n",
    "        if b == 0:\n",
    "            print('division with zero not allowed')\n",
    "            return\n",
    "        return a/b\n",
    "    \n",
    "    return wrapper_func\n",
    "\n",
    "@dec_func3\n",
    "def div(x,y):\n",
    "    return x/y\n",
    "\n",
    "print(div(15,3))\n",
    "print(div(2,0))"
   ]
  },
  {
   "cell_type": "code",
   "execution_count": 11,
   "id": "2edef845-b8a8-4bdb-bbb8-7ebb25b5ee08",
   "metadata": {},
   "outputs": [
    {
     "name": "stdout",
     "output_type": "stream",
     "text": [
      "Elapsed time:  0.0012140274047851562\n",
      "200010000\n"
     ]
    }
   ],
   "source": [
    "from time import time\n",
    "\n",
    "def dec_func4(func):\n",
    "    def wrapper_func(*args, **kwargs):\n",
    "        start = time();\n",
    "        result = func(*args, **kwargs)\n",
    "        end = time();\n",
    "        print('Elapsed time: ', end-start)\n",
    "        return result\n",
    "    return wrapper_func\n",
    "\n",
    "@dec_func4\n",
    "def my_func(num):\n",
    "    sum = 0\n",
    "    for i in range(num+1):\n",
    "        sum+=i\n",
    "    return sum\n",
    "print(my_func(20000))"
   ]
  }
 ],
 "metadata": {
  "kernelspec": {
   "display_name": "Python 3",
   "language": "python",
   "name": "python3"
  },
  "language_info": {
   "codemirror_mode": {
    "name": "ipython",
    "version": 3
   },
   "file_extension": ".py",
   "mimetype": "text/x-python",
   "name": "python",
   "nbconvert_exporter": "python",
   "pygments_lexer": "ipython3",
   "version": "3.8.10"
  }
 },
 "nbformat": 4,
 "nbformat_minor": 5
}
