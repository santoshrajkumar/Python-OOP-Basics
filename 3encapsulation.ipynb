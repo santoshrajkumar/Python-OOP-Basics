{
 "cells": [
  {
   "cell_type": "code",
   "execution_count": 2,
   "id": "974061c2-7bf3-4570-91d7-72a08129caae",
   "metadata": {},
   "outputs": [
    {
     "name": "stdout",
     "output_type": "stream",
     "text": [
      "200\n",
      "200\n"
     ]
    }
   ],
   "source": [
    "class Car:\n",
    "    def __init__(self, speed, color):\n",
    "        self.speed = speed;\n",
    "        self.color = color;\n",
    "        \n",
    "    def set_speed(self, value):\n",
    "        self.speed = value\n",
    "    \n",
    "    def get_speed(self):\n",
    "        return self.speed\n",
    "    \n",
    "ford = Car(200, 'red');\n",
    "\n",
    "print(ford.get_speed())\n",
    "print(ford.speed)"
   ]
  },
  {
   "cell_type": "markdown",
   "id": "f222f4d6-9b95-4d10-8b6d-6c69aa435986",
   "metadata": {},
   "source": [
    "# Making attributes private\n",
    "* Restricting attributes is called encapsulation"
   ]
  },
  {
   "cell_type": "code",
   "execution_count": 12,
   "id": "efa8ee31-9032-4379-9474-563b3605c9d3",
   "metadata": {},
   "outputs": [
    {
     "name": "stdout",
     "output_type": "stream",
     "text": [
      "400\n"
     ]
    }
   ],
   "source": [
    "class Car:\n",
    "    def __init__(self, speed, color):\n",
    "        self.__speed = speed;\n",
    "        self.__color = color;\n",
    "        \n",
    "    def set_speed(self, value):\n",
    "        self.__speed = value\n",
    "    \n",
    "    def get_speed(self):\n",
    "        return self.__speed\n",
    "    \n",
    "    def set_color(self, value):\n",
    "        self.__color = value\n",
    "    \n",
    "    def get_color(self):\n",
    "        return self.__color\n",
    "    \n",
    "ford = Car(200, 'red');\n",
    "\n",
    "ford.set_speed(400)\n",
    "ford.__speed = 300\n",
    "\n",
    "print(ford.get_speed())\n"
   ]
  }
 ],
 "metadata": {
  "kernelspec": {
   "display_name": "Python 3",
   "language": "python",
   "name": "python3"
  },
  "language_info": {
   "codemirror_mode": {
    "name": "ipython",
    "version": 3
   },
   "file_extension": ".py",
   "mimetype": "text/x-python",
   "name": "python",
   "nbconvert_exporter": "python",
   "pygments_lexer": "ipython3",
   "version": "3.8.10"
  }
 },
 "nbformat": 4,
 "nbformat_minor": 5
}
