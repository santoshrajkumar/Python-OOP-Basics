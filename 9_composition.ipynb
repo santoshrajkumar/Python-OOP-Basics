{
 "cells": [
  {
   "cell_type": "code",
   "execution_count": 2,
   "id": "773640fc-a823-46d8-b323-5fdaeede7b27",
   "metadata": {},
   "outputs": [
    {
     "name": "stdout",
     "output_type": "stream",
     "text": [
      "149000\n"
     ]
    }
   ],
   "source": [
    "class Salary:\n",
    "    def __init__(self, pay, bonus):\n",
    "        self.pay = pay\n",
    "        self.bonus = bonus\n",
    "    def calculate_annual_salary(self):\n",
    "        return (self.pay*12) + self.bonus\n",
    "    \n",
    "class Employee:\n",
    "    def __init__(self,name,age,hometown, pay, bonus):\n",
    "        self.name = name\n",
    "        self.age = age\n",
    "        self.hometown = hometown\n",
    "        # composition, instantiating salary class (content) inside ecomplyee class (container)\n",
    "        self.obj_salary = Salary(pay, bonus)\n",
    "    def total_salary(self):\n",
    "        return self.obj_salary.calculate_annual_salary()\n",
    "    \n",
    "emp = Employee('Santosh', 28, 'Oxford', 12000, 5000)\n",
    "\n",
    "print(emp.total_salary())"
   ]
  },
  {
   "cell_type": "code",
   "execution_count": null,
   "id": "2ebd83bd-9eba-4a09-9a59-2b23acd13056",
   "metadata": {},
   "outputs": [],
   "source": []
  }
 ],
 "metadata": {
  "kernelspec": {
   "display_name": "Python 3",
   "language": "python",
   "name": "python3"
  },
  "language_info": {
   "codemirror_mode": {
    "name": "ipython",
    "version": 3
   },
   "file_extension": ".py",
   "mimetype": "text/x-python",
   "name": "python",
   "nbconvert_exporter": "python",
   "pygments_lexer": "ipython3",
   "version": "3.8.10"
  }
 },
 "nbformat": 4,
 "nbformat_minor": 5
}
