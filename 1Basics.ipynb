{
 "cells": [
  {
   "cell_type": "markdown",
   "id": "d446dbf4-ced9-4337-936e-43e746dd7aa6",
   "metadata": {},
   "source": [
    "## Procedural Programming\n",
    "* Unit- function\n",
    "* conecentrates on creating functions\n",
    "* Requires sending data to procedure / functions\n",
    "\n",
    "## Object Oriented Programming\n",
    "* Unit - class\n",
    "* A class, a logical, entity, is a blueprint or template from which objects are created. It is also can be called as group of similar objects.\n",
    "* An object is a single instance of a class. It is a physical entity.\n",
    "* Concentrates on creating objects\n",
    "* Object: A single software unit that combines data and methods\n",
    "* Data in objects are known as attributes\n",
    "* Procedures / functions in an object are known as methods"
   ]
  },
  {
   "cell_type": "code",
   "execution_count": 4,
   "id": "76aee5c6-d0c4-4e71-9c75-7f2353a7f1d0",
   "metadata": {},
   "outputs": [
    {
     "name": "stdout",
     "output_type": "stream",
     "text": [
      "220\n",
      "red\n",
      "300\n",
      "gray\n"
     ]
    }
   ],
   "source": [
    "# defining an empty class\n",
    "class Car:\n",
    "    pass\n",
    "\n",
    "# creating instances / objects of the empty class Car\n",
    "ford = Car()\n",
    "honda = Car()\n",
    "toyota = Car()\n",
    "\n",
    "#associate attributes to objects\n",
    "ford.speed = 220;\n",
    "honda.speed = 200;\n",
    "toyota.speed = 250;\n",
    "\n",
    "ford.color = 'red'\n",
    "honda.color = 'blue'\n",
    "toyota.color = 'black'\n",
    "\n",
    "\n",
    "print(ford.speed)\n",
    "print(ford.color)\n",
    "\n",
    "#changing attributes\n",
    "ford.speed = 300\n",
    "ford.color = 'gray'\n",
    "\n",
    "print(ford.speed)\n",
    "print(ford.color)"
   ]
  },
  {
   "cell_type": "code",
   "execution_count": 6,
   "id": "29431337-76f0-4cde-8ece-8172aca4d771",
   "metadata": {},
   "outputs": [
    {
     "name": "stdout",
     "output_type": "stream",
     "text": [
      "800\n",
      "1250\n"
     ]
    }
   ],
   "source": [
    "# defining an empty class\n",
    "class Rectangle:\n",
    "    pass\n",
    "# creating instances / objects of the empty class\n",
    "rect1 = Rectangle();\n",
    "rect2 = Rectangle();\n",
    "\n",
    "rect1.height = 20;\n",
    "rect2.height = 50;\n",
    "rect1.width = 40;\n",
    "rect2.width = 25;\n",
    "\n",
    "print(rect1.height*rect1.width)\n",
    "print(rect2.height*rect2.width)\n"
   ]
  }
 ],
 "metadata": {
  "kernelspec": {
   "display_name": "Python 3",
   "language": "python",
   "name": "python3"
  },
  "language_info": {
   "codemirror_mode": {
    "name": "ipython",
    "version": 3
   },
   "file_extension": ".py",
   "mimetype": "text/x-python",
   "name": "python",
   "nbconvert_exporter": "python",
   "pygments_lexer": "ipython3",
   "version": "3.8.10"
  }
 },
 "nbformat": 4,
 "nbformat_minor": 5
}
