{
 "cells": [
  {
   "cell_type": "code",
   "execution_count": 1,
   "id": "56c186d6-de9e-4596-980f-f588d09e9e75",
   "metadata": {},
   "outputs": [
    {
     "name": "stdout",
     "output_type": "stream",
     "text": [
      "Child on\n"
     ]
    }
   ],
   "source": [
    "class Parent:\n",
    "    def __init__(self):\n",
    "        print('Parent on')\n",
    "        \n",
    "class Child(Parent):\n",
    "    def __init__(self):\n",
    "        print('Child on')\n",
    "        \n",
    "child = Child()\n",
    "        "
   ]
  },
  {
   "cell_type": "code",
   "execution_count": 2,
   "id": "0a2c868c-51e7-4214-ba00-a2e027e604a2",
   "metadata": {},
   "outputs": [
    {
     "name": "stdout",
     "output_type": "stream",
     "text": [
      "Child on\n",
      "Parent on\n"
     ]
    }
   ],
   "source": [
    "class Parent:\n",
    "    def __init__(self):\n",
    "        print('Parent on')\n",
    "        \n",
    "class Child(Parent):\n",
    "    def __init__(self):\n",
    "        print('Child on')\n",
    "        super().__init__()\n",
    "        \n",
    "child = Child()"
   ]
  },
  {
   "cell_type": "code",
   "execution_count": 7,
   "id": "b397ce7c-d397-4e75-a2a2-4ceb094da194",
   "metadata": {},
   "outputs": [
    {
     "name": "stdout",
     "output_type": "stream",
     "text": [
      "Child on\n",
      "Parent2 on\n",
      "Parent on\n"
     ]
    }
   ],
   "source": [
    "class Parent:\n",
    "    def __init__(self):\n",
    "        print('Parent on')\n",
    "\n",
    "class Parent2:\n",
    "    def __init__(self):\n",
    "        print('Parent2 on')\n",
    "        \n",
    "class Child(Parent2, Parent):\n",
    "    def __init__(self):\n",
    "        print('Child on')\n",
    "        Parent2.__init__(self)\n",
    "        Parent.__init__(self)\n",
    "        \n",
    "child = Child()"
   ]
  },
  {
   "cell_type": "code",
   "execution_count": null,
   "id": "1464fac9-8271-48c3-96be-95281cf9294e",
   "metadata": {},
   "outputs": [],
   "source": []
  }
 ],
 "metadata": {
  "kernelspec": {
   "display_name": "Python 3",
   "language": "python",
   "name": "python3"
  },
  "language_info": {
   "codemirror_mode": {
    "name": "ipython",
    "version": 3
   },
   "file_extension": ".py",
   "mimetype": "text/x-python",
   "name": "python",
   "nbconvert_exporter": "python",
   "pygments_lexer": "ipython3",
   "version": "3.8.10"
  }
 },
 "nbformat": 4,
 "nbformat_minor": 5
}
