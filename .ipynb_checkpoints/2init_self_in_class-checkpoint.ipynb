{
 "cells": [
  {
   "cell_type": "code",
   "execution_count": 5,
   "id": "7223d180-04fe-4f23-a3e9-42309d65559a",
   "metadata": {},
   "outputs": [
    {
     "name": "stdout",
     "output_type": "stream",
     "text": [
      "the __init__ is called\n",
      "220\n",
      "red\n",
      "the __init__ is called\n",
      "250\n",
      "blue\n"
     ]
    }
   ],
   "source": [
    "class Car:\n",
    "    #init method behaves as a constructor for the class, used to initialize some attributes / methods\n",
    "    def __init__(self, speed, color):\n",
    "        print('the __init__ is called')\n",
    "        print(speed)\n",
    "        print(color)\n",
    "        \n",
    "        \n",
    "\n",
    "\n",
    "ford = Car(220,'red');\n",
    "honda = Car(250, 'blue');"
   ]
  },
  {
   "cell_type": "code",
   "execution_count": 6,
   "id": "6c344ebf-4eb3-4149-ab19-a0925e370e5a",
   "metadata": {},
   "outputs": [
    {
     "ename": "AttributeError",
     "evalue": "'Car' object has no attribute 'speed'",
     "output_type": "error",
     "traceback": [
      "\u001b[0;31m---------------------------------------------------------------------------\u001b[0m",
      "\u001b[0;31mAttributeError\u001b[0m                            Traceback (most recent call last)",
      "\u001b[0;32m<ipython-input-6-e18598fccdfd>\u001b[0m in \u001b[0;36m<module>\u001b[0;34m\u001b[0m\n\u001b[0;32m----> 1\u001b[0;31m \u001b[0mprint\u001b[0m\u001b[0;34m(\u001b[0m\u001b[0mford\u001b[0m\u001b[0;34m.\u001b[0m\u001b[0mspeed\u001b[0m\u001b[0;34m)\u001b[0m\u001b[0;34m\u001b[0m\u001b[0;34m\u001b[0m\u001b[0m\n\u001b[0m",
      "\u001b[0;31mAttributeError\u001b[0m: 'Car' object has no attribute 'speed'"
     ]
    }
   ],
   "source": [
    "print(ford.speed)"
   ]
  },
  {
   "cell_type": "code",
   "execution_count": 7,
   "id": "73cb1adf-d84b-4ff7-8510-cfaa4aa32943",
   "metadata": {},
   "outputs": [
    {
     "name": "stdout",
     "output_type": "stream",
     "text": [
      "the __init__ is called\n",
      "220\n",
      "red\n",
      "the __init__ is called\n",
      "250\n",
      "blue\n",
      "220\n",
      "250\n"
     ]
    }
   ],
   "source": [
    "class Car:\n",
    "    #init method behaves as a constructor for the class, used to initialize some attributes / methods\n",
    "    def __init__(self, speed, color):\n",
    "        print('the __init__ is called')\n",
    "        print(speed)\n",
    "        print(color)\n",
    "        self.speed = speed;\n",
    "        self.color = color;\n",
    "        \n",
    "        \n",
    "\n",
    "\n",
    "ford = Car(220,'red');\n",
    "honda = Car(250, 'blue');\n",
    "\n",
    "print(ford.speed)\n",
    "print(honda.speed)"
   ]
  },
  {
   "cell_type": "code",
   "execution_count": 8,
   "id": "317328cf-af23-4f37-a27e-5f10e9358bf0",
   "metadata": {},
   "outputs": [
    {
     "name": "stdout",
     "output_type": "stream",
     "text": [
      "400\n",
      "1800\n"
     ]
    }
   ],
   "source": [
    "class Rectangle:\n",
    "    def __init__(self, height, width):\n",
    "        self.height = height\n",
    "        self.width = width\n",
    "\n",
    "rect1 = Rectangle(20,20);\n",
    "rect2 = Rectangle(30,60);\n",
    "\n",
    "\n",
    "print(rect1.height*rect1.width)\n",
    "print(rect2.height*rect2.width)"
   ]
  },
  {
   "cell_type": "markdown",
   "id": "7bff6b0f-0cd2-4ab8-9316-104c5d83cc8b",
   "metadata": {},
   "source": [
    "# Multiple arguments in init method"
   ]
  },
  {
   "cell_type": "code",
   "execution_count": 9,
   "id": "78e0e3cc-a5b6-4354-b76e-6a4f372a4cf9",
   "metadata": {},
   "outputs": [
    {
     "ename": "TypeError",
     "evalue": "__init__() missing 1 required positional argument: 'name'",
     "output_type": "error",
     "traceback": [
      "\u001b[0;31m---------------------------------------------------------------------------\u001b[0m",
      "\u001b[0;31mTypeError\u001b[0m                                 Traceback (most recent call last)",
      "\u001b[0;32m<ipython-input-9-b1d9743286d2>\u001b[0m in \u001b[0;36m<module>\u001b[0;34m\u001b[0m\n\u001b[1;32m      3\u001b[0m         \u001b[0;32mpass\u001b[0m\u001b[0;34m\u001b[0m\u001b[0;34m\u001b[0m\u001b[0m\n\u001b[1;32m      4\u001b[0m \u001b[0;34m\u001b[0m\u001b[0m\n\u001b[0;32m----> 5\u001b[0;31m \u001b[0mhello1\u001b[0m \u001b[0;34m=\u001b[0m \u001b[0mHello\u001b[0m\u001b[0;34m(\u001b[0m\u001b[0;34m)\u001b[0m\u001b[0;34m;\u001b[0m\u001b[0;34m\u001b[0m\u001b[0;34m\u001b[0m\u001b[0m\n\u001b[0m\u001b[1;32m      6\u001b[0m \u001b[0mhello2\u001b[0m \u001b[0;34m=\u001b[0m \u001b[0mHello\u001b[0m\u001b[0;34m(\u001b[0m\u001b[0;34m'name'\u001b[0m\u001b[0;34m)\u001b[0m\u001b[0;34m\u001b[0m\u001b[0;34m\u001b[0m\u001b[0m\n",
      "\u001b[0;31mTypeError\u001b[0m: __init__() missing 1 required positional argument: 'name'"
     ]
    }
   ],
   "source": [
    "class Hello:\n",
    "    def __init__(self, name):\n",
    "        pass\n",
    "    \n",
    "hello1 = Hello();\n",
    "hello2 = Hello('name')"
   ]
  },
  {
   "cell_type": "code",
   "execution_count": 10,
   "id": "40300d5c-e159-4dfa-8aa7-36b02f395ca1",
   "metadata": {},
   "outputs": [],
   "source": [
    "class Hello:\n",
    "    def __init__(self, name = 'hi'):\n",
    "        pass\n",
    "    \n",
    "hello1 = Hello();\n",
    "hello2 = Hello('name')"
   ]
  },
  {
   "cell_type": "code",
   "execution_count": 11,
   "id": "63ff1c65-e509-4cc1-83ce-0ca20256336d",
   "metadata": {},
   "outputs": [],
   "source": [
    "class Hello:\n",
    "    def __init__(self, *args, **kwargs):\n",
    "        pass\n",
    "    \n",
    "hello1 = Hello();\n",
    "hello2 = Hello('name', 'red', 220)"
   ]
  },
  {
   "cell_type": "code",
   "execution_count": 13,
   "id": "e32f7372-a36a-461f-b9e1-91f8f151e8aa",
   "metadata": {},
   "outputs": [
    {
     "name": "stdout",
     "output_type": "stream",
     "text": [
      "Good morning\n"
     ]
    }
   ],
   "source": [
    "class Hello:\n",
    "    def __init__(self):\n",
    "        self.greet = 'Good morning'\n",
    "    \n",
    "hello1 = Hello();\n",
    "print(hello1.greet)"
   ]
  }
 ],
 "metadata": {
  "kernelspec": {
   "display_name": "Python 3",
   "language": "python",
   "name": "python3"
  },
  "language_info": {
   "codemirror_mode": {
    "name": "ipython",
    "version": 3
   },
   "file_extension": ".py",
   "mimetype": "text/x-python",
   "name": "python",
   "nbconvert_exporter": "python",
   "pygments_lexer": "ipython3",
   "version": "3.8.10"
  }
 },
 "nbformat": 4,
 "nbformat_minor": 5
}
