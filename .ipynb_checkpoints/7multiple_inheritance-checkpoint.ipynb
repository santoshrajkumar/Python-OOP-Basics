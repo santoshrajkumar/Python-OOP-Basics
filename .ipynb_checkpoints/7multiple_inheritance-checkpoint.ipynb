{
 "cells": [
  {
   "cell_type": "code",
   "execution_count": 4,
   "id": "a5d55b24-9f6f-4ef8-8d3e-af29835eb47d",
   "metadata": {},
   "outputs": [
    {
     "name": "stdout",
     "output_type": "stream",
     "text": [
      "green\n",
      "blue\n"
     ]
    }
   ],
   "source": [
    "class Shape:\n",
    "    __color = None\n",
    "    \n",
    "    def set_color(self,color):\n",
    "        self.__color = color\n",
    "    def get_color(self):\n",
    "        return self.__color\n",
    "\n",
    "class Polygon:\n",
    "    __width = None\n",
    "    __height = None\n",
    "    \n",
    "    def set_values(self, width, height):\n",
    "        self.__width = width\n",
    "        self.__height = height\n",
    "    def get_width(self):\n",
    "        return self.__width\n",
    "    def get_height(self):\n",
    "        return self.__height\n",
    "    \n",
    "\n",
    "#Subclasses\n",
    "class Rectangle(Polygon, Shape):\n",
    "    def area(self):\n",
    "        return self.__width*self.__height\n",
    "\n",
    "\n",
    "class Triangle(Polygon, Shape):\n",
    "    def area(self):\n",
    "        return self.__width*self.__height/2\n",
    "    \n",
    "rect = Rectangle();\n",
    "tri = Triangle();\n",
    "\n",
    "rect.set_color('green');\n",
    "tri.set_color('blue');\n",
    "\n",
    "print(rect.get_color())\n",
    "print(tri.get_color())"
   ]
  }
 ],
 "metadata": {
  "kernelspec": {
   "display_name": "Python 3",
   "language": "python",
   "name": "python3"
  },
  "language_info": {
   "codemirror_mode": {
    "name": "ipython",
    "version": 3
   },
   "file_extension": ".py",
   "mimetype": "text/x-python",
   "name": "python",
   "nbconvert_exporter": "python",
   "pygments_lexer": "ipython3",
   "version": "3.8.10"
  }
 },
 "nbformat": 4,
 "nbformat_minor": 5
}
