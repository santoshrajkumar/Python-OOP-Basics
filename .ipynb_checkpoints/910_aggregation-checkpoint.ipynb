{
 "cells": [
  {
   "cell_type": "code",
   "execution_count": 1,
   "id": "04b2a296-2052-4c14-906d-21761adb9631",
   "metadata": {},
   "outputs": [
    {
     "name": "stdout",
     "output_type": "stream",
     "text": [
      "149000\n"
     ]
    }
   ],
   "source": [
    "class Salary:\n",
    "    def __init__(self, pay, bonus):\n",
    "        self.pay = pay\n",
    "        self.bonus = bonus\n",
    "    def calculate_annual_salary(self):\n",
    "        return (self.pay*12) + self.bonus\n",
    "    \n",
    "class Employee:\n",
    "    def __init__(self,name,age,hometown, salary):\n",
    "        self.name = name\n",
    "        self.age = age\n",
    "        self.hometown = hometown\n",
    "        self.obj_salary = salary\n",
    "        \n",
    "    def total_salary(self):\n",
    "        return self.obj_salary.calculate_annual_salary()\n",
    "\n",
    "salary = Salary(12000,5000)\n",
    "emp = Employee('Santosh', 28, 'Oxford', salary)\n",
    "\n",
    "print(emp.total_salary())"
   ]
  },
  {
   "cell_type": "markdown",
   "id": "0ae4d3fd-2557-4a66-be70-260ff63c3161",
   "metadata": {},
   "source": [
    "# Difference b/w Composition and Aggregation\n",
    "* Composition- 'part-of' , Aggregation - 'has-a'\n",
    "* When you delete Employee object , salary object will automatically be deleted (Composition). But, in aggregation, When you delete Employee object , salary object survives."
   ]
  }
 ],
 "metadata": {
  "kernelspec": {
   "display_name": "Python 3",
   "language": "python",
   "name": "python3"
  },
  "language_info": {
   "codemirror_mode": {
    "name": "ipython",
    "version": 3
   },
   "file_extension": ".py",
   "mimetype": "text/x-python",
   "name": "python",
   "nbconvert_exporter": "python",
   "pygments_lexer": "ipython3",
   "version": "3.8.10"
  }
 },
 "nbformat": 4,
 "nbformat_minor": 5
}
